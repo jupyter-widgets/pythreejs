{
 "cells": [
  {
   "cell_type": "code",
   "execution_count": 3,
   "metadata": {
    "collapsed": true
   },
   "outputs": [],
   "source": [
    "from pythreejs import *\n",
    "from IPython.display import display\n",
    "import time"
   ]
  },
  {
   "cell_type": "code",
   "execution_count": 4,
   "metadata": {
    "collapsed": false
   },
   "outputs": [],
   "source": [
    "# Setup our objects\n",
    "mat1 = MeshStandardMaterial(color='#ff0000')\n",
    "mat2 = MeshStandardMaterial(color='#00ff00')\n",
    "mat3 = MeshStandardMaterial(color='#0000ff')\n",
    "mat4 = MeshStandardMaterial(color='#ffff00')\n",
    "mat5 = MeshStandardMaterial(color='#ff00ff')\n",
    "mat6 = MeshStandardMaterial(color='#00ffff')\n",
    "torus = TorusGeometry(radius=12, tube=3, radialSegments=16, tubularSegments=100)\n",
    "mesh1 = Mesh(geometry=torus, material=mat1, _width=75, _height=75)\n",
    "mesh2 = Mesh(geometry=torus, material=mat2, _width=75, _height=75)\n",
    "mesh3 = Mesh(geometry=torus, material=mat3, _width=75, _height=75)\n",
    "mesh4 = Mesh(geometry=torus, material=mat4, _width=75, _height=75)\n",
    "mesh5 = Mesh(geometry=torus, material=mat5, _width=75, _height=75)\n",
    "mesh6 = Mesh(geometry=torus, material=mat6, _width=75, _height=75)"
   ]
  },
  {
   "cell_type": "code",
   "execution_count": 5,
   "metadata": {
    "collapsed": false
   },
   "outputs": [],
   "source": [
    "# This will render our meshes, each multiple times, resulting in 30 different renderings\n",
    "# Each of the 30 is a separate widget.  \n",
    "# This test demonstrates:\n",
    "# - rendering shared objects in multiple places\n",
    "# - maintaining interactivity for all renderings\n",
    "# - no prior image is lost because of subsequent renderings\n",
    "display(mesh1, mesh2, mesh3, mesh4, mesh5, mesh6, \n",
    "        mesh1, mesh2, mesh3, mesh4, mesh5, mesh6, \n",
    "        mesh1, mesh2, mesh3, mesh4, mesh5, mesh6, \n",
    "        mesh1, mesh2, mesh3, mesh4, mesh5, mesh6, \n",
    "        mesh1, mesh2, mesh3, mesh4, mesh5, mesh6, \n",
    "        mesh1, mesh2, mesh3, mesh4, mesh5, mesh6)"
   ]
  },
  {
   "cell_type": "code",
   "execution_count": 6,
   "metadata": {
    "collapsed": true
   },
   "outputs": [],
   "source": [
    "time.sleep(2)"
   ]
  },
  {
   "cell_type": "code",
   "execution_count": 15,
   "metadata": {
    "collapsed": true
   },
   "outputs": [],
   "source": [
    "# Test using raw WebGLRenderer\n",
    "# Need a scene, cam, and lights to do so\n",
    "scene = Scene()\n",
    "\n",
    "scene.add(mesh1)\n",
    "\n",
    "cam = PerspectiveCamera(position=[0, 0, 50], fov=75)\n",
    "cam.lookAt([0, 0, 0])\n",
    "scene.add(cam)\n",
    "\n",
    "amb = AmbientLight(color=\"#ffffff\", intensity=0.5)\n",
    "point = PointLight(color=\"#ffffff\", intensity=1.0, distance=0.0)\n",
    "point.position = [ -100, 100, 100 ]\n",
    "point.lookAt([0, 0, 0])\n",
    "cam.add(amb)\n",
    "cam.add(point)"
   ]
  },
  {
   "cell_type": "code",
   "execution_count": 16,
   "metadata": {
    "collapsed": true
   },
   "outputs": [],
   "source": [
    "scene"
   ]
  },
  {
   "cell_type": "code",
   "execution_count": 17,
   "metadata": {
    "collapsed": true
   },
   "outputs": [],
   "source": [
    "renderer = WebGLRenderer(width=50, height=50)\n",
    "r = renderer\n",
    "display(r, r, r, r, r,\n",
    "        r, r, r, r, r,\n",
    "        r, r, r, r, r,\n",
    "        r, r, r, r, r,\n",
    "        r, r, r, r, r)"
   ]
  },
  {
   "cell_type": "code",
   "execution_count": 9,
   "metadata": {
    "collapsed": true
   },
   "outputs": [],
   "source": [
    "time.sleep(3)"
   ]
  },
  {
   "cell_type": "code",
   "execution_count": 18,
   "metadata": {
    "collapsed": false
   },
   "outputs": [],
   "source": [
    "renderer.render(scene, cam)"
   ]
  },
  {
   "cell_type": "code",
   "execution_count": 11,
   "metadata": {
    "collapsed": true
   },
   "outputs": [],
   "source": [
    "scene = Scene()\n",
    "scene.add(mesh2)\n",
    "scene.add(cam)"
   ]
  },
  {
   "cell_type": "code",
   "execution_count": null,
   "metadata": {
    "collapsed": true
   },
   "outputs": [],
   "source": []
  }
 ],
 "metadata": {
  "anaconda-cloud": {},
  "kernelspec": {
   "display_name": "Python [py27]",
   "language": "python",
   "name": "Python [py27]"
  },
  "language_info": {
   "codemirror_mode": {
    "name": "ipython",
    "version": 2
   },
   "file_extension": ".py",
   "mimetype": "text/x-python",
   "name": "python",
   "nbconvert_exporter": "python",
   "pygments_lexer": "ipython2",
   "version": "2.7.12"
  },
  "widgets": {
   "state": {
    "24503e936776485e9cef765c6c4b8ee0": {
     "views": [
      {
       "cell_index": 2
      },
      {
       "cell_index": 2
      },
      {
       "cell_index": 2
      },
      {
       "cell_index": 2
      },
      {
       "cell_index": 2
      },
      {
       "cell_index": 2
      }
     ]
    },
    "283d2254c5494697a81a116866f9ea5a": {
     "views": [
      {
       "cell_index": 5
      }
     ]
    },
    "85b8422d0bd54a979b5ea9d35593ed12": {
     "views": [
      {
       "cell_index": 2
      },
      {
       "cell_index": 2
      },
      {
       "cell_index": 2
      },
      {
       "cell_index": 2
      },
      {
       "cell_index": 2
      },
      {
       "cell_index": 2
      }
     ]
    },
    "9671bcfb13cf4890b49b06507ab55ce9": {
     "views": [
      {
       "cell_index": 2
      },
      {
       "cell_index": 2
      },
      {
       "cell_index": 2
      },
      {
       "cell_index": 2
      },
      {
       "cell_index": 2
      },
      {
       "cell_index": 2
      }
     ]
    },
    "c2138de9aa2748d7b0dd781427b4ca40": {
     "views": [
      {
       "cell_index": 2
      },
      {
       "cell_index": 2
      },
      {
       "cell_index": 2
      },
      {
       "cell_index": 2
      },
      {
       "cell_index": 2
      },
      {
       "cell_index": 2
      }
     ]
    },
    "c31b8bd16fe04f3da8dea1380f807044": {
     "views": [
      {
       "cell_index": 2
      },
      {
       "cell_index": 2
      },
      {
       "cell_index": 2
      },
      {
       "cell_index": 2
      },
      {
       "cell_index": 2
      },
      {
       "cell_index": 2
      }
     ]
    },
    "fcd3a84467ab46e0862672322ddcf89e": {
     "views": [
      {
       "cell_index": 2
      },
      {
       "cell_index": 2
      },
      {
       "cell_index": 2
      },
      {
       "cell_index": 2
      },
      {
       "cell_index": 2
      },
      {
       "cell_index": 2
      }
     ]
    }
   },
   "version": "1.2.0"
  }
 },
 "nbformat": 4,
 "nbformat_minor": 0
}
