{
 "cells": [
  {
   "cell_type": "code",
   "execution_count": 9,
   "metadata": {
    "collapsed": false
   },
   "outputs": [],
   "source": [
    "from pythreejs import *\n",
    "from IPython.display import display\n",
    "from math import pi"
   ]
  },
  {
   "cell_type": "code",
   "execution_count": 10,
   "metadata": {
    "collapsed": true
   },
   "outputs": [],
   "source": [
    "checker_tex = ImageTexture(imageUri='img/checkerboard.png')\n",
    "earth_tex = ImageTexture(imageUri='img/earth.jpg')"
   ]
  },
  {
   "cell_type": "code",
   "execution_count": 11,
   "metadata": {
    "collapsed": true
   },
   "outputs": [],
   "source": [
    "checker_tex"
   ]
  },
  {
   "cell_type": "code",
   "execution_count": 12,
   "metadata": {
    "collapsed": true
   },
   "outputs": [],
   "source": [
    "earth_tex"
   ]
  },
  {
   "cell_type": "code",
   "execution_count": 13,
   "metadata": {
    "collapsed": false
   },
   "outputs": [],
   "source": [
    "#\n",
    "# Create checkerboard pattern\n",
    "#\n",
    "\n",
    "data = []\n",
    "\n",
    "# tex dims need to be power of two.\n",
    "arr_w = 256\n",
    "arr_h = 256\n",
    "\n",
    "# num checkers in checkerboard pattern\n",
    "n_checkers_x = 4\n",
    "n_checkers_y = 4\n",
    "\n",
    "# width in texels of each checker\n",
    "checker_w = arr_w / n_checkers_x\n",
    "checker_h = arr_h / n_checkers_y\n",
    "\n",
    "for y in range(arr_h):\n",
    "    for x in range(arr_w):\n",
    "        color_key = int(x / checker_w) + int(y / checker_h)\n",
    "        if color_key % 2 == 0:\n",
    "            data += [ 0, 0, 0 ]\n",
    "        else:\n",
    "            data += [ 1, 1, 1 ]\n",
    "\n",
    "data_tex = DataTexture(\n",
    "    data=data,\n",
    "    width=arr_w,\n",
    "    height=arr_h,\n",
    "    format=\"RGBFormat\",\n",
    "    type=\"FloatType\"\n",
    ")"
   ]
  },
  {
   "cell_type": "code",
   "execution_count": 14,
   "metadata": {
    "collapsed": false
   },
   "outputs": [],
   "source": [
    "data_tex"
   ]
  },
  {
   "cell_type": "code",
   "execution_count": null,
   "metadata": {
    "collapsed": true
   },
   "outputs": [],
   "source": []
  }
 ],
 "metadata": {
  "anaconda-cloud": {},
  "kernelspec": {
   "display_name": "Python [py27]",
   "language": "python",
   "name": "Python [py27]"
  },
  "language_info": {
   "codemirror_mode": {
    "name": "ipython",
    "version": 2
   },
   "file_extension": ".py",
   "mimetype": "text/x-python",
   "name": "python",
   "nbconvert_exporter": "python",
   "pygments_lexer": "ipython2",
   "version": "2.7.12"
  },
  "widgets": {
   "state": {
    "0885b81ec3b84bd98b18f97628e67b13": {
     "views": [
      {
       "cell_index": 2
      }
     ]
    },
    "b2adc9f17575448ea8432026b293788b": {
     "views": [
      {
       "cell_index": 5
      }
     ]
    },
    "dd6673a806794aa7b74236873da63c50": {
     "views": [
      {
       "cell_index": 3
      }
     ]
    }
   },
   "version": "1.2.0"
  }
 },
 "nbformat": 4,
 "nbformat_minor": 0
}
